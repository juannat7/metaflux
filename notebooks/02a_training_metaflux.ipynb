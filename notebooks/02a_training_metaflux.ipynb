{
 "cells": [
  {
   "cell_type": "code",
   "execution_count": 1,
   "metadata": {},
   "outputs": [],
   "source": [
    "%load_ext autoreload\n",
    "%autoreload 2"
   ]
  },
  {
   "cell_type": "code",
   "execution_count": 2,
   "metadata": {},
   "outputs": [],
   "source": [
    "import sys\n",
    "sys.path.append('..')\n",
    "\n",
    "import metaflux\n",
    "import torch\n",
    "from torch.utils.data import DataLoader\n",
    "import torch.optim as optim\n",
    "import pandas as pd\n",
    "import numpy as np\n",
    "import matplotlib.pyplot as plt\n",
    "from sklearn.model_selection import train_test_split\n",
    "import learn2learn as l2l\n",
    "\n",
    "device = torch.device(\"cuda\" if torch.cuda.is_available() else \"cpu\")\n",
    "np.random.seed(101)\n",
    "torch.manual_seed(101)\n",
    "import warnings\n",
    "from tqdm import tqdm\n",
    "import copy\n",
    "\n",
    "import warnings\n",
    "warnings.filterwarnings(\"ignore\")"
   ]
  },
  {
   "cell_type": "markdown",
   "metadata": {},
   "source": [
    "## Load and modify your hyperparameters of your task"
   ]
  },
  {
   "cell_type": "code",
   "execution_count": 186,
   "metadata": {},
   "outputs": [
    {
     "data": {
      "text/plain": [
       "{'epoch': 100,\n",
       " 'hidden_size': 1024,\n",
       " 'batch_size': 32,\n",
       " 'input_size': 4,\n",
       " 'meta_lr': 0.0001,\n",
       " 'update_lr': 1e-05,\n",
       " 'num_lstm_layers': 1,\n",
       " 'max_meta_step': 2,\n",
       " 'finetune_size': 0.2,\n",
       " 'xcolumns': ['P_F', 'LAI', 'VPD_F', 'EVI']}"
      ]
     },
     "execution_count": 186,
     "metadata": {},
     "output_type": "execute_result"
    }
   ],
   "source": [
    "# Specify variables\n",
    "xcolumns = [\"P_F\", \"LAI\", \"VPD_F\", \"EVI\"] # \"P_F\", \"LAI\", \"SW_IN_F\", \"VPD_F\", \"TA_F\", \"EVI\"\n",
    "ycolumn = \"GPP_NT_VUT_REF\" # \"GPP_NT_VUT_REF\", \"RECO\"\n",
    "\n",
    "# Load the hyperparameters for your task\n",
    "config_path = '../metaflux/configs/upscale_gpp.yaml'\n",
    "hyper_args = metaflux.configs.get_hyperparams(config_path=config_path)\n",
    "\n",
    "hyper_args['xcolumns'] = xcolumns\n",
    "hyper_args['input_size'] = len(xcolumns)\n",
    "hyper_args"
   ]
  },
  {
   "cell_type": "markdown",
   "metadata": {},
   "source": [
    "## Define your model"
   ]
  },
  {
   "cell_type": "code",
   "execution_count": 87,
   "metadata": {},
   "outputs": [],
   "source": [
    "# Load model\n",
    "model_type = \"mlp\" # currently supported models: ['lstm', 'bilstm', 'mlp']\n",
    "model = metaflux.learner.Learner(input_size=hyper_args[\"input_size\"], hidden_size=hyper_args[\"hidden_size\"], model_type=model_type).to(device)\n",
    "\n",
    "# Define MAML model around our model\n",
    "maml = l2l.algorithms.MAML(model, lr=hyper_args[\"update_lr\"], first_order=False)\n",
    "opt = torch.optim.Adam(maml.parameters(), lr=hyper_args[\"meta_lr\"])\n",
    "loss = torch.nn.MSELoss(reduction=\"mean\")"
   ]
  },
  {
   "cell_type": "markdown",
   "metadata": {},
   "source": [
    "## Define dataloader"
   ]
  },
  {
   "cell_type": "code",
   "execution_count": 88,
   "metadata": {},
   "outputs": [],
   "source": [
    "root_dir = '../../Data/processed/tropics_full/'\n",
    "\n",
    "# Note that the inputs are normalized here. For non-temporal data, we specify time_window = 1\n",
    "fluxnet_train = metaflux.dataloader.Fluxmetanet(root=root_dir, mode=\"train\", x_columns=hyper_args[\"xcolumns\"], y_column=ycolumn, time_column=None, time_window=1)\n",
    "fluxnet_test = metaflux.dataloader.Fluxmetanet(root=root_dir, mode=\"test\", x_columns=hyper_args[\"xcolumns\"], y_column=ycolumn, time_column=None, time_window=1)"
   ]
  },
  {
   "cell_type": "code",
   "execution_count": 89,
   "metadata": {},
   "outputs": [
    {
     "name": "stdout",
     "output_type": "stream",
     "text": [
      "torch.Size([1, 4])\n",
      "torch.Size([1])\n"
     ]
    }
   ],
   "source": [
    "x, y = next(iter(fluxnet_train))\n",
    "print(x.shape)\n",
    "print(y.shape)"
   ]
  },
  {
   "cell_type": "markdown",
   "metadata": {},
   "source": [
    "## Training"
   ]
  },
  {
   "cell_type": "code",
   "execution_count": 187,
   "metadata": {},
   "outputs": [],
   "source": [
    "def train_meta(runs, hyper_args, fluxnet_train, fluxnet_test, for_inference=False, verbose=False):\n",
    "    meta_loss_metric = dict()\n",
    "\n",
    "    for run in range(0,runs):\n",
    "        model = metaflux.learner.Learner(input_size=hyper_args[\"input_size\"], hidden_size=hyper_args[\"hidden_size\"], model_type=model_type).to(device)\n",
    "        maml = l2l.algorithms.MAML(model, lr=hyper_args[\"update_lr\"], first_order=False)\n",
    "        opt = torch.optim.Adam(maml.parameters(), lr=hyper_args[\"meta_lr\"])\n",
    "        schedule = optim.lr_scheduler.CosineAnnealingLR(opt, T_max=hyper_args[\"epoch\"])\n",
    "        train_epoch, val_epoch = list(), list()\n",
    "        \n",
    "        for epoch in range(hyper_args[\"epoch\"]):\n",
    "            opt.zero_grad()\n",
    "            train_error, val_error = 0.0, 0.0\n",
    "\n",
    "            # Meta-training\n",
    "            with torch.backends.cudnn.flags(enabled=False):\n",
    "                learner = maml.clone().double()\n",
    "                db_train = DataLoader(fluxnet_train, batch_size=hyper_args[\"batch_size\"], shuffle=True)\n",
    "                max_steps = min(hyper_args[\"max_meta_step\"], len(db_train))\n",
    "\n",
    "                for step, (x, y) in enumerate(db_train):\n",
    "                    x, y = x.to(device), y.to(device)\n",
    "                    support_x, query_x, support_y, query_y = train_test_split(x, y, test_size=0.2, random_state=42)\n",
    "                    pred = learner(support_x)\n",
    "                    error = loss(pred, support_y)\n",
    "                    learner.adapt(error)\n",
    "\n",
    "                    # Evaluation\n",
    "                    pred = learner(query_x)\n",
    "                    error = loss(pred, query_y)\n",
    "                    error.backward(retain_graph=True)\n",
    "                    train_error += error.item()\n",
    "\n",
    "                    if (step + 1) == max_steps:\n",
    "                        break\n",
    "                \n",
    "                for n, p in maml.named_parameters():\n",
    "                    p.grad.data.mul_(1.0/step)\n",
    "                \n",
    "                opt.step()\n",
    "                schedule.step()\n",
    "\n",
    "                # Meta-testing\n",
    "                learner = maml.clone(first_order=True).double()\n",
    "                db_test = DataLoader(fluxnet_test, batch_size=hyper_args[\"batch_size\"], shuffle=True)\n",
    "                max_steps = min(hyper_args[\"max_meta_step\"], len(db_test))\n",
    "                \n",
    "                for step, (x, y) in enumerate(db_test):\n",
    "                    x, y = x.to(device), y.to(device)\n",
    "                    support_x, query_x, support_y, query_y = train_test_split(x, y, test_size=hyper_args[\"finetune_size\"], random_state=42)\n",
    "                    pred = learner(support_x)\n",
    "                    error = loss(pred, support_y)\n",
    "                    learner.adapt(error)\n",
    "\n",
    "                    pred = learner(query_x)\n",
    "                    error = loss(pred, query_y)\n",
    "                    val_error += error.item()\n",
    "\n",
    "                    if (step + 1) == max_steps:\n",
    "                        if (for_inference) and (epoch % int(hyper_args[\"epoch\"] // 2)) == 0:\n",
    "                            # Take gradient steps for the class finetuned\n",
    "                            error.backward(retain_graph=True)\n",
    "                            opt.step()\n",
    "                        \n",
    "                        train_epoch.append(train_error/step)\n",
    "                        val_epoch.append(val_error/step)\n",
    "                        break\n",
    "            \n",
    "            if verbose and ((epoch % 50 == 0) or (epoch == (hyper_args[\"epoch\"] - 1))):\n",
    "                print(f'Epoch: {epoch}, training loss: {train_epoch[epoch]}, validation loss: {val_epoch[epoch]}')\n",
    "\n",
    "        meta_loss_metric.update({\n",
    "            f\"train_loss_{run}\": train_epoch,\n",
    "            f\"val_epoch_{run}\": val_epoch\n",
    "        })\n",
    "\n",
    "    return meta_loss_metric, maml"
   ]
  },
  {
   "cell_type": "code",
   "execution_count": 161,
   "metadata": {},
   "outputs": [],
   "source": [
    "def train_base(runs, hyper_args, fluxnet_train, fluxnet_test, verbose=False):\n",
    "    base_loss_metric = dict()\n",
    "\n",
    "    for run in range(0,runs):\n",
    "        model = metaflux.learner.Learner(input_size=hyper_args[\"input_size\"], hidden_size=hyper_args[\"hidden_size\"], model_type=model_type).double().to(device)\n",
    "        opt = torch.optim.Adam(model.parameters(), lr=hyper_args[\"update_lr\"])\n",
    "        schedule = optim.lr_scheduler.CosineAnnealingLR(opt, T_max=hyper_args[\"epoch\"])\n",
    "        train_epoch, val_epoch = list(), list()\n",
    "\n",
    "        for epoch in range(hyper_args[\"epoch\"]):\n",
    "            train_error, val_error = 0.0, 0.0\n",
    "\n",
    "            # Training\n",
    "            db_train = DataLoader(fluxnet_train, batch_size=hyper_args[\"batch_size\"], shuffle=True)\n",
    "            max_steps = min(hyper_args[\"max_meta_step\"], len(db_train))\n",
    "\n",
    "            for step, (x, y) in enumerate(db_train):\n",
    "                opt.zero_grad()\n",
    "                x, y = x.to(device), y.to(device)\n",
    "                train_x, test_x, train_y, test_y = train_test_split(x, y, test_size=0.2, random_state=42)\n",
    "                pred = model(train_x)\n",
    "                error = loss(pred, train_y)\n",
    "                error.backward()\n",
    "                opt.step()\n",
    "                train_error += loss(model(test_x), test_y).item()\n",
    "\n",
    "                if (step + 1) == max_steps:\n",
    "                    schedule.step()\n",
    "                    break\n",
    "            \n",
    "\n",
    "            # Testing\n",
    "            db_test = DataLoader(fluxnet_test, batch_size=hyper_args[\"batch_size\"], shuffle=True)\n",
    "            max_steps = min(hyper_args[\"max_meta_step\"], len(db_test))\n",
    "            model_copy = copy.deepcopy(model)\n",
    "            opt_copy = torch.optim.Adam(model_copy.parameters(), lr=hyper_args[\"update_lr\"])\n",
    "\n",
    "            for step, (x, y) in enumerate(db_test):\n",
    "                opt_copy.zero_grad()\n",
    "                x, y = x.to(device), y.to(device)\n",
    "                train_x, test_x, train_y, test_y = train_test_split(x, y, test_size=hyper_args[\"finetune_size\"], random_state=42)\n",
    "                pred = model_copy(train_x)\n",
    "                error = loss(pred, train_y)\n",
    "\n",
    "                # Akin to finetuning/adaptation step in meta-learning\n",
    "                error.backward()\n",
    "                opt_copy.step()\n",
    "                train_error += error.item()\n",
    "\n",
    "                with torch.no_grad():\n",
    "                    pred = model_copy(test_x)\n",
    "                    error = loss(pred, test_y)\n",
    "                    val_error += error.item()\n",
    "                \n",
    "                if (step + 1) == max_steps:\n",
    "                    train_epoch.append(train_error/step)\n",
    "                    val_epoch.append(val_error/step)\n",
    "                    del model_copy, opt_copy\n",
    "                    break\n",
    "\n",
    "            if verbose and ((epoch % 50 == 0) or (epoch == (hyper_args[\"epoch\"] - 1))):\n",
    "                print(f'Epoch: {epoch}, training loss: {train_epoch[epoch]}, validation loss: {val_epoch[epoch]}')\n",
    "\n",
    "        base_loss_metric.update({\n",
    "            f\"train_loss_{run}\": train_epoch,\n",
    "            f\"val_epoch_{run}\": val_epoch\n",
    "        })\n",
    "        \n",
    "    return base_loss_metric, model"
   ]
  },
  {
   "cell_type": "code",
   "execution_count": 108,
   "metadata": {},
   "outputs": [
    {
     "name": "stdout",
     "output_type": "stream",
     "text": [
      "Training meta-learning models\n",
      "Epoch: 0, training loss: 32.422797742623416, validation loss: 132.96943600933741\n",
      "Epoch: 50, training loss: 24.017615094243197, validation loss: 57.28881907993687\n",
      "Epoch: 99, training loss: 33.95238277640436, validation loss: 34.26563828425821\n",
      "Epoch: 0, training loss: 57.777396189565245, validation loss: 89.09898069869877\n",
      "Epoch: 50, training loss: 19.861976189671687, validation loss: 68.79814754836897\n",
      "Epoch: 99, training loss: 12.727336323810874, validation loss: 43.736360157548276\n",
      "Epoch: 0, training loss: 40.00248604218978, validation loss: 81.7249318081453\n",
      "Epoch: 50, training loss: 26.60011304181136, validation loss: 39.95868942705496\n",
      "Epoch: 99, training loss: 12.82526255560734, validation loss: 51.15188089624329\n",
      "Epoch: 0, training loss: 71.8743357972608, validation loss: 100.08129910270753\n",
      "Epoch: 50, training loss: 17.021282921589307, validation loss: 32.285004664585614\n",
      "Epoch: 99, training loss: 15.068894169943007, validation loss: 21.626176824889306\n",
      "Epoch: 0, training loss: 84.35733402803373, validation loss: 73.5133818704668\n",
      "Epoch: 50, training loss: 19.853381179444803, validation loss: 32.1516686829127\n",
      "Epoch: 99, training loss: 14.46559113536377, validation loss: 39.29215727799297\n",
      "Training baseline models\n",
      "Epoch: 0, training loss: 116.84595632494884, validation loss: 129.9510789044072\n",
      "Epoch: 50, training loss: 80.92371786781626, validation loss: 53.19624380430888\n",
      "Epoch: 99, training loss: 94.11017216148373, validation loss: 85.1915547458252\n",
      "Epoch: 0, training loss: 120.82950463031258, validation loss: 84.31123639518887\n",
      "Epoch: 50, training loss: 104.94465872825322, validation loss: 81.0969554725118\n",
      "Epoch: 99, training loss: 92.34988689569528, validation loss: 32.08270435559032\n",
      "Epoch: 0, training loss: 146.97335576521243, validation loss: 85.27669746607404\n",
      "Epoch: 50, training loss: 86.47851936779631, validation loss: 55.208701161020116\n",
      "Epoch: 99, training loss: 98.84976944723178, validation loss: 48.86180925909717\n",
      "Epoch: 0, training loss: 107.23469648509186, validation loss: 93.9744231390408\n",
      "Epoch: 50, training loss: 101.10000076984602, validation loss: 41.74781053776527\n",
      "Epoch: 99, training loss: 136.6770354482307, validation loss: 71.21220168670425\n",
      "Epoch: 0, training loss: 108.20316831457939, validation loss: 107.77049033010906\n",
      "Epoch: 50, training loss: 72.75649770583554, validation loss: 66.3658728460481\n",
      "Epoch: 99, training loss: 91.31974864305147, validation loss: 81.02205933377007\n"
     ]
    },
    {
     "data": {
      "image/png": "[encoded data removed]",
      "text/plain": [
       "<Figure size 432x288 with 1 Axes>"
      ]
     },
     "metadata": {
      "needs_background": "light"
     },
     "output_type": "display_data"
    },
    {
     "name": "stdout",
     "output_type": "stream",
     "text": [
      "Non meta-learning loss: 46.29 ± 2.10\n",
      "Meta-learning loss: 25.57 ± 1.13\n"
     ]
    }
   ],
   "source": [
    "runs = 5\n",
    "meta_loss_metric, maml = train_meta(runs, hyper_args, fluxnet_train, fluxnet_test, for_inference=False)\n",
    "base_loss_metric, model = train_base(runs, hyper_args, fluxnet_train, fluxnet_test)\n",
    "\n",
    "# Plot validation loss\n",
    "is_smoothing = True\n",
    "smoothing_exp = 7\n",
    "f, ax = plt.subplots()\n",
    "epochs = np.arange(1,hyper_args[\"epoch\"] + 1)\n",
    "meta_loss, base_loss = list(), list()\n",
    "for run in range(runs):\n",
    "    meta_loss.append(meta_loss_metric[f\"val_epoch_{run}\"])\n",
    "    base_loss.append(base_loss_metric[f\"val_epoch_{run}\"])\n",
    "\n",
    "meta_loss = np.array(meta_loss)\n",
    "base_loss = np.array(base_loss)\n",
    "if is_smoothing:\n",
    "    meta_mean = np.poly1d(np.polyfit(epochs, meta_loss.mean(axis=0), smoothing_exp))(epochs)\n",
    "    meta_std = np.poly1d(np.polyfit(epochs, meta_loss.std(axis=0), smoothing_exp))(epochs)\n",
    "    base_mean = np.poly1d(np.polyfit(epochs, base_loss.mean(axis=0), smoothing_exp))(epochs)\n",
    "    base_std = np.poly1d(np.polyfit(epochs, base_loss.std(axis=0), smoothing_exp))(epochs)\n",
    "else:\n",
    "    meta_mean = meta_loss.mean(axis=0)\n",
    "    meta_std = meta_loss.std(axis=0)\n",
    "    base_mean = base_loss.mean(axis=0)\n",
    "    base_std = base_loss.std(axis=0)\n",
    "\n",
    "ax.plot(epochs, meta_mean, label='Meta-learning')\n",
    "ax.plot(epochs, base_mean, label='Non Meta-learning')\n",
    "ax.fill_between(epochs, meta_mean - meta_std, meta_mean + meta_std, alpha=0.2)\n",
    "ax.fill_between(epochs, base_mean - base_std, base_mean + base_std, alpha=0.2)\n",
    "ax.set_title(\"Validation MSE for GPP inference\")\n",
    "ax.set_ylabel(\"MSE\")\n",
    "ax.set_xlabel(\"Epoch\")\n",
    "ax.legend()\n",
    "plt.show()\n",
    "\n",
    "print(f\"Non meta-learning loss: {min(base_loss.mean(axis=0)):.2f} ± {min(base_loss.std(axis=0)):.2f}\")\n",
    "print(f\"Meta-learning loss: {min(meta_loss.mean(axis=0)):.2f} ± {min(meta_loss.std(axis=0)):.2f}\")\n"
   ]
  },
  {
   "cell_type": "code",
   "execution_count": 28,
   "metadata": {},
   "outputs": [],
   "source": [
    "# Save model\n",
    "PATH = f\"../../model_dir/maml_{model_type}_{ycolumn}.pt\"\n",
    "torch.save(maml, PATH)"
   ]
  },
  {
   "cell_type": "markdown",
   "metadata": {},
   "source": [
    "# Extras"
   ]
  },
  {
   "cell_type": "code",
   "execution_count": 217,
   "metadata": {},
   "outputs": [
    {
     "name": "stderr",
     "output_type": "stream",
     "text": [
      "100%|██████████| 18/18 [2:46:04<00:00, 553.61s/it] \n"
     ]
    },
    {
     "data": {
      "image/png": "[encoded data removed]",
      "text/plain": [
       "<Figure size 432x288 with 1 Axes>"
      ]
     },
     "metadata": {
      "needs_background": "light"
     },
     "output_type": "display_data"
    }
   ],
   "source": [
    "# Varying max_steps (ie. number of finetuning samples)\n",
    "max_meta_steps = np.arange(2,len(fluxnet_test)//hyper_args[\"batch_size\"],2)\n",
    "hyper_args[\"epoch\"] = 100 #Prevents the model from seeing too much of the data in later epochs\n",
    "hyper_args[\"meta_lr\"] = 1e-04 #Compensates for lower number of epoch to achieve convergence\n",
    "runs = 5\n",
    "\n",
    "meta_mean, meta_std, base_mean, base_std = list(), list(), list(), list()\n",
    "\n",
    "for max_meta_step in tqdm(max_meta_steps):\n",
    "    hyper_args[\"max_meta_step\"] = max_meta_step\n",
    "    meta_loss_metric, maml = train_meta(runs, hyper_args, fluxnet_train, fluxnet_test, for_inference=False, verbose=False)\n",
    "    base_loss_metric, model = train_base(runs, hyper_args, fluxnet_train, fluxnet_test, verbose=False)\n",
    "    meta_loss, base_loss = list(), list()\n",
    "    for run in range(runs):\n",
    "        meta_loss.append(np.min(meta_loss_metric[f\"val_epoch_{run}\"])); base_loss.append(np.min(base_loss_metric[f\"val_epoch_{run}\"]))\n",
    "    \n",
    "    meta_mean.append(np.array(meta_loss).mean()); meta_std.append(np.array(meta_loss).std()); base_mean.append(np.array(base_loss).mean()); base_std.append(np.array(base_loss).std())\n",
    "\n",
    "meta_mean, meta_std, base_mean, base_std = np.array(meta_mean), np.array(meta_std), np.array(base_mean), np.array(base_std)\n",
    "\n",
    "# Plotting\n",
    "finetuning_prop = max_meta_steps * hyper_args[\"batch_size\"] / len(fluxnet_test)\n",
    "f, ax = plt.subplots()\n",
    "ax.plot(finetuning_prop, meta_mean, label='Meta-learning')\n",
    "ax.plot(finetuning_prop, base_mean, label='Non Meta-learning')\n",
    "ax.fill_between(finetuning_prop, meta_mean - meta_std, meta_mean + meta_std, alpha=0.2)\n",
    "ax.fill_between(finetuning_prop, base_mean - base_std, base_mean + base_std, alpha=0.2)\n",
    "ax.set_ylabel(\"MSE\")\n",
    "ax.set_xlabel(\"Proportion of tuning samples per epoch\")\n",
    "ax.legend()\n",
    "plt.show()"
   ]
  },
  {
   "cell_type": "code",
   "execution_count": null,
   "metadata": {},
   "outputs": [],
   "source": []
  }
 ],
 "metadata": {
  "kernelspec": {
   "display_name": "Python 3.8.2 ('pytorch')",
   "language": "python",
   "name": "python3"
  },
  "language_info": {
   "codemirror_mode": {
    "name": "ipython",
    "version": 3
   },
   "file_extension": ".py",
   "mimetype": "text/x-python",
   "name": "python",
   "nbconvert_exporter": "python",
   "pygments_lexer": "ipython3",
   "version": "3.8.2"
  },
  "orig_nbformat": 4,
  "vscode": {
   "interpreter": {
    "hash": "0f272b2befa8a640f609b747b92b07058a7eabe2b7955268e555c5cfa135e8b9"
   }
  }
 },
 "nbformat": 4,
 "nbformat_minor": 2
}
