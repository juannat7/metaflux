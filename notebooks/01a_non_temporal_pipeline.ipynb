{
 "cells": [
  {
   "cell_type": "code",
   "execution_count": 2,
   "metadata": {},
   "outputs": [],
   "source": [
    "%load_ext autoreload\n",
    "%autoreload 2"
   ]
  },
  {
   "cell_type": "code",
   "execution_count": 11,
   "metadata": {},
   "outputs": [],
   "source": [
    "import sys\n",
    "sys.path.append('..')\n",
    "\n",
    "import metaflux\n",
    "import torch\n",
    "from torch.utils.data import DataLoader\n",
    "import pandas as pd\n",
    "import numpy as np\n",
    "import matplotlib.pyplot as plt\n",
    "from sklearn.model_selection import train_test_split\n",
    "\n",
    "device = torch.device(\"cuda\" if torch.cuda.is_available() else \"cpu\")"
   ]
  },
  {
   "cell_type": "code",
   "execution_count": 31,
   "metadata": {},
   "outputs": [
    {
     "data": {
      "text/html": [
       "<div>\n",
       "<style scoped>\n",
       "    .dataframe tbody tr th:only-of-type {\n",
       "        vertical-align: middle;\n",
       "    }\n",
       "\n",
       "    .dataframe tbody tr th {\n",
       "        vertical-align: top;\n",
       "    }\n",
       "\n",
       "    .dataframe thead th {\n",
       "        text-align: right;\n",
       "    }\n",
       "</style>\n",
       "<table border=\"1\" class=\"dataframe\">\n",
       "  <thead>\n",
       "    <tr style=\"text-align: right;\">\n",
       "      <th></th>\n",
       "      <th>Unnamed: 0</th>\n",
       "      <th>Site</th>\n",
       "      <th>Lat</th>\n",
       "      <th>Lon</th>\n",
       "      <th>Datetime</th>\n",
       "      <th>PFT</th>\n",
       "      <th>Climate</th>\n",
       "      <th>Tair</th>\n",
       "      <th>SW</th>\n",
       "      <th>RH</th>\n",
       "      <th>VPD</th>\n",
       "      <th>WS</th>\n",
       "      <th>Ca</th>\n",
       "      <th>SWC</th>\n",
       "      <th>LAI</th>\n",
       "      <th>flag_rain</th>\n",
       "      <th>flag_daytime</th>\n",
       "      <th>flag_GS</th>\n",
       "      <th>flag_peak</th>\n",
       "      <th>Gs</th>\n",
       "    </tr>\n",
       "  </thead>\n",
       "  <tbody>\n",
       "    <tr>\n",
       "      <th>0</th>\n",
       "      <td>631703</td>\n",
       "      <td>DE-Gri</td>\n",
       "      <td>50.9500</td>\n",
       "      <td>13.5126</td>\n",
       "      <td>2012-08-12 15:00:00</td>\n",
       "      <td>GRA</td>\n",
       "      <td>Continental</td>\n",
       "      <td>19.030</td>\n",
       "      <td>646.730</td>\n",
       "      <td>46.820</td>\n",
       "      <td>1.1711</td>\n",
       "      <td>3.380</td>\n",
       "      <td>371.520</td>\n",
       "      <td>0.27930</td>\n",
       "      <td>5.776588</td>\n",
       "      <td>0</td>\n",
       "      <td>1</td>\n",
       "      <td>1</td>\n",
       "      <td>0</td>\n",
       "      <td>0.437704</td>\n",
       "    </tr>\n",
       "    <tr>\n",
       "      <th>1</th>\n",
       "      <td>153541</td>\n",
       "      <td>US-SRC</td>\n",
       "      <td>31.9083</td>\n",
       "      <td>-110.8395</td>\n",
       "      <td>2008-09-28 11:00:00</td>\n",
       "      <td>OSH</td>\n",
       "      <td>Arid</td>\n",
       "      <td>30.245</td>\n",
       "      <td>834.091</td>\n",
       "      <td>33.199</td>\n",
       "      <td>2.8750</td>\n",
       "      <td>5.040</td>\n",
       "      <td>360.334</td>\n",
       "      <td>0.06243</td>\n",
       "      <td>0.514628</td>\n",
       "      <td>0</td>\n",
       "      <td>1</td>\n",
       "      <td>1</td>\n",
       "      <td>1</td>\n",
       "      <td>0.032834</td>\n",
       "    </tr>\n",
       "    <tr>\n",
       "      <th>2</th>\n",
       "      <td>260567</td>\n",
       "      <td>US-Goo</td>\n",
       "      <td>34.2547</td>\n",
       "      <td>-89.8735</td>\n",
       "      <td>2004-06-14 14:00:00</td>\n",
       "      <td>GRA</td>\n",
       "      <td>Temperate</td>\n",
       "      <td>30.600</td>\n",
       "      <td>796.000</td>\n",
       "      <td>63.200</td>\n",
       "      <td>1.6230</td>\n",
       "      <td>2.230</td>\n",
       "      <td>-9999.000</td>\n",
       "      <td>0.28001</td>\n",
       "      <td>4.100858</td>\n",
       "      <td>0</td>\n",
       "      <td>1</td>\n",
       "      <td>1</td>\n",
       "      <td>1</td>\n",
       "      <td>0.314082</td>\n",
       "    </tr>\n",
       "    <tr>\n",
       "      <th>3</th>\n",
       "      <td>931313</td>\n",
       "      <td>AU-DaS</td>\n",
       "      <td>-14.1593</td>\n",
       "      <td>131.3881</td>\n",
       "      <td>2010-06-09 10:00:00</td>\n",
       "      <td>SAV</td>\n",
       "      <td>Tropical</td>\n",
       "      <td>22.450</td>\n",
       "      <td>525.000</td>\n",
       "      <td>37.000</td>\n",
       "      <td>1.7124</td>\n",
       "      <td>3.270</td>\n",
       "      <td>350.900</td>\n",
       "      <td>0.03400</td>\n",
       "      <td>0.844350</td>\n",
       "      <td>0</td>\n",
       "      <td>1</td>\n",
       "      <td>1</td>\n",
       "      <td>0</td>\n",
       "      <td>0.145919</td>\n",
       "    </tr>\n",
       "    <tr>\n",
       "      <th>4</th>\n",
       "      <td>663990</td>\n",
       "      <td>CH-Fru</td>\n",
       "      <td>47.1158</td>\n",
       "      <td>8.5378</td>\n",
       "      <td>2012-06-15 09:30:00</td>\n",
       "      <td>GRA</td>\n",
       "      <td>Arctic</td>\n",
       "      <td>19.751</td>\n",
       "      <td>759.230</td>\n",
       "      <td>59.571</td>\n",
       "      <td>0.9311</td>\n",
       "      <td>1.245</td>\n",
       "      <td>360.772</td>\n",
       "      <td>0.45614</td>\n",
       "      <td>2.603535</td>\n",
       "      <td>0</td>\n",
       "      <td>1</td>\n",
       "      <td>1</td>\n",
       "      <td>1</td>\n",
       "      <td>0.647665</td>\n",
       "    </tr>\n",
       "  </tbody>\n",
       "</table>\n",
       "</div>"
      ],
      "text/plain": [
       "   Unnamed: 0    Site      Lat       Lon             Datetime  PFT  \\\n",
       "0      631703  DE-Gri  50.9500   13.5126  2012-08-12 15:00:00  GRA   \n",
       "1      153541  US-SRC  31.9083 -110.8395  2008-09-28 11:00:00  OSH   \n",
       "2      260567  US-Goo  34.2547  -89.8735  2004-06-14 14:00:00  GRA   \n",
       "3      931313  AU-DaS -14.1593  131.3881  2010-06-09 10:00:00  SAV   \n",
       "4      663990  CH-Fru  47.1158    8.5378  2012-06-15 09:30:00  GRA   \n",
       "\n",
       "       Climate    Tair       SW      RH     VPD     WS        Ca      SWC  \\\n",
       "0  Continental  19.030  646.730  46.820  1.1711  3.380   371.520  0.27930   \n",
       "1         Arid  30.245  834.091  33.199  2.8750  5.040   360.334  0.06243   \n",
       "2    Temperate  30.600  796.000  63.200  1.6230  2.230 -9999.000  0.28001   \n",
       "3     Tropical  22.450  525.000  37.000  1.7124  3.270   350.900  0.03400   \n",
       "4       Arctic  19.751  759.230  59.571  0.9311  1.245   360.772  0.45614   \n",
       "\n",
       "        LAI  flag_rain  flag_daytime  flag_GS  flag_peak        Gs  \n",
       "0  5.776588          0             1        1          0  0.437704  \n",
       "1  0.514628          0             1        1          1  0.032834  \n",
       "2  4.100858          0             1        1          1  0.314082  \n",
       "3  0.844350          0             1        1          0  0.145919  \n",
       "4  2.603535          0             1        1          1  0.647665  "
      ]
     },
     "execution_count": 31,
     "metadata": {},
     "output_type": "execute_result"
    }
   ],
   "source": [
    "# Load data and split to training/test sites\n",
    "data_dir = '../metaflux/data/conductance/Env_Gs_train_subsample.csv'\n",
    "df = pd.read_csv(data_dir)\n",
    "\n",
    "df.head()"
   ]
  },
  {
   "cell_type": "code",
   "execution_count": 32,
   "metadata": {},
   "outputs": [],
   "source": [
    "# Split and save the dataframe\n",
    "train_df, test_df = train_test_split(df, test_size=0.5, random_state=42)\n",
    "train_df.to_csv('../metaflux/data/conductance/train/train.csv')\n",
    "test_df.to_csv('../metaflux/data/conductance/test/test.csv')"
   ]
  },
  {
   "cell_type": "markdown",
   "metadata": {},
   "source": [
    "## Load and modify your hyperparameters of your task"
   ]
  },
  {
   "cell_type": "code",
   "execution_count": 17,
   "metadata": {},
   "outputs": [
    {
     "data": {
      "text/plain": [
       "{'epoch': 25,\n",
       " 'hidden_size': 64,\n",
       " 'input_size': 4,\n",
       " 'k_qry': 250,\n",
       " 'k_spt': 250,\n",
       " 'meta_lr': 1e-07,\n",
       " 'n_way': 2,\n",
       " 'num_lstm_layers': 2,\n",
       " 'task_num': 1,\n",
       " 'update_lr': 1e-07,\n",
       " 'update_step': 250,\n",
       " 'update_step_test': 5,\n",
       " 'xcolumns': ['Tair', 'SW', 'RH', 'VPD']}"
      ]
     },
     "execution_count": 17,
     "metadata": {},
     "output_type": "execute_result"
    }
   ],
   "source": [
    "# Specify variables\n",
    "xcolumns = [\"Tair\",\"SW\",\"RH\",\"VPD\"]\n",
    "ycolumn = \"Gs\"\n",
    "\n",
    "# Load the hyperparameters for your task\n",
    "config_path = '../metaflux/configs/hyperparams.yaml'\n",
    "hyper_args = metaflux.configs.get_hyperparams(config_path=config_path)\n",
    "\n",
    "hyper_args['xcolumns'] = xcolumns\n",
    "hyper_args['input_size'] = len(xcolumns)\n",
    "hyper_args"
   ]
  },
  {
   "cell_type": "markdown",
   "metadata": {},
   "source": [
    "## Define your model"
   ]
  },
  {
   "cell_type": "code",
   "execution_count": 18,
   "metadata": {},
   "outputs": [
    {
     "data": {
      "text/plain": [
       "Learner(\n",
       "  (vars): ParameterList(\n",
       "      (0): Parameter containing: [torch.cuda.DoubleTensor of size 64x4 (GPU 0)]\n",
       "      (1): Parameter containing: [torch.cuda.DoubleTensor of size 64 (GPU 0)]\n",
       "      (2): Parameter containing: [torch.cuda.DoubleTensor of size 64x64 (GPU 0)]\n",
       "      (3): Parameter containing: [torch.cuda.DoubleTensor of size 64 (GPU 0)]\n",
       "      (4): Parameter containing: [torch.cuda.DoubleTensor of size 1x64 (GPU 0)]\n",
       "      (5): Parameter containing: [torch.cuda.DoubleTensor of size 1 (GPU 0)]\n",
       "  )\n",
       ")"
      ]
     },
     "execution_count": 18,
     "metadata": {},
     "output_type": "execute_result"
    }
   ],
   "source": [
    "model_config = metaflux.configs.get_config(model=\"mlp\", args=hyper_args) # currently supported models: ['lstm', 'bilstm', 'mlp']\n",
    "learner = metaflux.learner.Learner(config=model_config, input_size=hyper_args[\"input_size\"], hidden_size=hyper_args[\"hidden_size\"])\n",
    "\n",
    "learner"
   ]
  },
  {
   "cell_type": "markdown",
   "metadata": {},
   "source": [
    "# Define dataloader"
   ]
  },
  {
   "cell_type": "code",
   "execution_count": 19,
   "metadata": {},
   "outputs": [
    {
     "name": "stderr",
     "output_type": "stream",
     "text": [
      " 50%|█████     | 1/2 [00:00<00:00, 10.00it/s]"
     ]
    },
    {
     "name": "stdout",
     "output_type": "stream",
     "text": [
      "shuffle DB :train, b:1, 2-way, 250-shot, 250-query\n"
     ]
    },
    {
     "name": "stderr",
     "output_type": "stream",
     "text": [
      "100%|██████████| 2/2 [00:00<00:00,  8.53it/s]\n",
      " 50%|█████     | 1/2 [00:00<00:00,  9.26it/s]"
     ]
    },
    {
     "name": "stdout",
     "output_type": "stream",
     "text": [
      "shuffle DB :test, b:1, 2-way, 250-shot, 250-query\n"
     ]
    },
    {
     "name": "stderr",
     "output_type": "stream",
     "text": [
      "100%|██████████| 2/2 [00:00<00:00,  9.48it/s]\n"
     ]
    }
   ],
   "source": [
    "root_dir = '../metaflux/data/conductance/'\n",
    "\n",
    "# Note that the x inputs are normalized here\n",
    "fluxnet_train = metaflux.dataloader.Fluxmetanet(root=root_dir, mode=\"train\", batchsz=1, n_way=hyper_args[\"n_way\"], k_shot=hyper_args[\"k_spt\"], k_query=hyper_args[\"k_qry\"], x_columns=hyper_args[\"xcolumns\"], y_column=ycolumn, time_column=None)\n",
    "fluxnet_test = metaflux.dataloader.Fluxmetanet(root=root_dir, mode=\"test\", batchsz=1, n_way=hyper_args[\"n_way\"], k_shot=hyper_args[\"k_spt\"], k_query=hyper_args[\"k_qry\"], x_columns=hyper_args[\"xcolumns\"], y_column=ycolumn, time_column=None)"
   ]
  },
  {
   "cell_type": "code",
   "execution_count": 20,
   "metadata": {},
   "outputs": [
    {
     "name": "stdout",
     "output_type": "stream",
     "text": [
      "torch.Size([2, 250, 1, 4])\n",
      "torch.Size([2, 250, 1])\n"
     ]
    }
   ],
   "source": [
    "support_x, support_y, query_x, query_y = next(iter(fluxnet_train))\n",
    "print(support_x.shape)\n",
    "print(support_y.shape)"
   ]
  },
  {
   "cell_type": "markdown",
   "metadata": {},
   "source": [
    "# Training and Evaluation"
   ]
  },
  {
   "cell_type": "code",
   "execution_count": 21,
   "metadata": {},
   "outputs": [
    {
     "name": "stdout",
     "output_type": "stream",
     "text": [
      "Training meta-learning models\n",
      "Run: 1\n",
      "Model specifications: Meta(\n",
      "  (net): Learner(\n",
      "    (vars): ParameterList(\n",
      "        (0): Parameter containing: [torch.cuda.DoubleTensor of size 64x4 (GPU 0)]\n",
      "        (1): Parameter containing: [torch.cuda.DoubleTensor of size 64 (GPU 0)]\n",
      "        (2): Parameter containing: [torch.cuda.DoubleTensor of size 64x64 (GPU 0)]\n",
      "        (3): Parameter containing: [torch.cuda.DoubleTensor of size 64 (GPU 0)]\n",
      "        (4): Parameter containing: [torch.cuda.DoubleTensor of size 1x64 (GPU 0)]\n",
      "        (5): Parameter containing: [torch.cuda.DoubleTensor of size 1 (GPU 0)]\n",
      "    )\n",
      "  )\n",
      ")\n",
      "Epoch: 0 \tTraining loss: 0.5058986175226641\n",
      "\tValidation loss: 0.496042\n",
      "Epoch: 1 \tTraining loss: 0.50514418087192\n",
      "Epoch: 2 \tTraining loss: 0.5043867158067102\n",
      "\tValidation loss: 0.495551\n",
      "Epoch: 3 \tTraining loss: 0.503625847331536\n",
      "Epoch: 4 \tTraining loss: 0.5028622217836046\n",
      "\tValidation loss: 0.49503\n",
      "Epoch: 5 \tTraining loss: 0.5020954879670261\n",
      "Epoch: 6 \tTraining loss: 0.5013255593350233\n",
      "\tValidation loss: 0.494478\n",
      "Epoch: 7 \tTraining loss: 0.5005521261158639\n",
      "Epoch: 8 \tTraining loss: 0.4997753999658877\n",
      "\tValidation loss: 0.493894\n",
      "Epoch: 9 \tTraining loss: 0.49899511447001077\n",
      "Epoch: 10 \tTraining loss: 0.49821131356268133\n",
      "\tValidation loss: 0.493277\n",
      "Epoch: 11 \tTraining loss: 0.49742397326515897\n",
      "Epoch: 12 \tTraining loss: 0.49663294936740765\n",
      "\tValidation loss: 0.492626\n",
      "Epoch: 13 \tTraining loss: 0.4958386674935506\n",
      "Epoch: 14 \tTraining loss: 0.495040717261107\n",
      "\tValidation loss: 0.491939\n",
      "Epoch: 15 \tTraining loss: 0.4942388472225476\n",
      "Epoch: 16 \tTraining loss: 0.49343374962347164\n",
      "\tValidation loss: 0.491216\n",
      "Epoch: 17 \tTraining loss: 0.49262498981709396\n",
      "Epoch: 18 \tTraining loss: 0.4918125293996356\n",
      "\tValidation loss: 0.490455\n",
      "Epoch: 19 \tTraining loss: 0.490996495910239\n",
      "Epoch: 20 \tTraining loss: 0.4901768166257601\n",
      "\tValidation loss: 0.489656\n",
      "Epoch: 21 \tTraining loss: 0.48935314951552694\n",
      "Epoch: 22 \tTraining loss: 0.488526486246513\n",
      "\tValidation loss: 0.488817\n",
      "Epoch: 23 \tTraining loss: 0.4876960630090656\n",
      "Epoch: 24 \tTraining loss: 0.4868618318274624\n",
      "\tValidation loss: 0.487937\n"
     ]
    }
   ],
   "source": [
    "runs = 1\n",
    "\n",
    "print(f\"Training meta-learning models\")\n",
    "vals_meta_losses = []\n",
    "for run in range(0,runs):\n",
    "    print(f\"Run: {run + 1}\")\n",
    "    vals_meta_loss = []\n",
    "\n",
    "    maml = metaflux.metalearner.Meta(hyper_args, model_config)\n",
    "    print(f\"Model specifications: {maml}\")\n",
    "    \n",
    "    for epoch in range(hyper_args[\"epoch\"]):\n",
    "        # fetch meta_batchsz num of episode each time\n",
    "        db_train = DataLoader(fluxnet_train, hyper_args[\"task_num\"], shuffle=True, num_workers=0)\n",
    "        for step, (x_spt, y_spt, x_qry, y_qry) in enumerate(db_train):\n",
    "            x_spt, y_spt, x_qry, y_qry = x_spt.to(device), y_spt.to(device), x_qry.to(device), y_qry.to(device)\n",
    "            loss = maml(x_spt, y_spt, x_qry, y_qry)\n",
    "\n",
    "            print('Epoch:', epoch, '\\tTraining loss:', loss)\n",
    "\n",
    "            if epoch % 2 == 0:  # evaluation\n",
    "                db_test = DataLoader(fluxnet_test, 1, shuffle=True, num_workers=0)\n",
    "                for x_spt, y_spt, x_qry, y_qry in db_test:\n",
    "                    x_spt, y_spt, x_qry, y_qry = x_spt.squeeze(0).to(device), y_spt.squeeze(0).to(device), x_qry.squeeze(0).to(device), y_qry.squeeze(0).to(device)\n",
    "                    loss = round(maml.finetuning(x_spt, y_spt, x_qry, y_qry), 6)\n",
    "\n",
    "                    if epoch > 0 and loss > vals_meta_loss[-1]:\n",
    "                        maml.update_lr = maml.update_lr * 0.1\n",
    "                        \n",
    "                    vals_meta_loss.append(loss)\n",
    "\n",
    "                print('\\tValidation loss:', loss)\n",
    "                \n",
    "    vals_meta_losses.append(vals_meta_loss)"
   ]
  },
  {
   "cell_type": "code",
   "execution_count": 23,
   "metadata": {},
   "outputs": [
    {
     "name": "stderr",
     "output_type": "stream",
     "text": [
      "100%|██████████| 2/2 [00:00<00:00, 11.42it/s]\n",
      "  0%|          | 0/2 [00:00<?, ?it/s]"
     ]
    },
    {
     "name": "stdout",
     "output_type": "stream",
     "text": [
      "Training baseline models\n"
     ]
    },
    {
     "name": "stderr",
     "output_type": "stream",
     "text": [
      "100%|██████████| 2/2 [00:00<00:00,  9.49it/s]\n"
     ]
    },
    {
     "name": "stdout",
     "output_type": "stream",
     "text": [
      "Epoch: 0 \tTraining loss: 0.1585214242741485\n",
      "\tValidation loss: 0.36213685017982505\n",
      "Epoch: 1 \tTraining loss: 0.15716364462941945\n",
      "Epoch: 2 \tTraining loss: 0.15593111941567872\n",
      "\tValidation loss: 0.3575215332826848\n",
      "Epoch: 3 \tTraining loss: 0.15479221201763227\n",
      "Epoch: 4 \tTraining loss: 0.15372744942503186\n",
      "\tValidation loss: 0.35331982086514335\n",
      "Epoch: 5 \tTraining loss: 0.15271397962841202\n",
      "Epoch: 6 \tTraining loss: 0.15173930617516118\n",
      "\tValidation loss: 0.3493639091188619\n",
      "Epoch: 7 \tTraining loss: 0.15080997716221203\n",
      "Epoch: 8 \tTraining loss: 0.14989729848780928\n",
      "\tValidation loss: 0.3455619196395266\n",
      "Epoch: 9 \tTraining loss: 0.14899279913742391\n",
      "Epoch: 10 \tTraining loss: 0.14810971093568595\n",
      "\tValidation loss: 0.34178779590909814\n",
      "Epoch: 11 \tTraining loss: 0.1472465728234649\n",
      "Epoch: 12 \tTraining loss: 0.14639891485667414\n",
      "\tValidation loss: 0.3381868789786536\n",
      "Epoch: 13 \tTraining loss: 0.14556194070494952\n",
      "Epoch: 14 \tTraining loss: 0.14473358361469735\n",
      "\tValidation loss: 0.33464052131055183\n",
      "Epoch: 15 \tTraining loss: 0.14391546344153044\n",
      "Epoch: 16 \tTraining loss: 0.143108762576347\n",
      "\tValidation loss: 0.33103778513239723\n",
      "Epoch: 17 \tTraining loss: 0.14230684462432122\n",
      "Epoch: 18 \tTraining loss: 0.14150703480729782\n",
      "\tValidation loss: 0.3274320315600005\n",
      "Epoch: 19 \tTraining loss: 0.1407139607192333\n",
      "Epoch: 20 \tTraining loss: 0.13992608141944748\n",
      "\tValidation loss: 0.323747208255569\n",
      "Epoch: 21 \tTraining loss: 0.1391437715644223\n",
      "Epoch: 22 \tTraining loss: 0.1383657540757415\n",
      "\tValidation loss: 0.32013659333921807\n",
      "Epoch: 23 \tTraining loss: 0.1375922306809204\n",
      "Epoch: 24 \tTraining loss: 0.1368215482346203\n",
      "\tValidation loss: 0.31672768073415275\n"
     ]
    }
   ],
   "source": [
    "print(\"Training baseline models\")\n",
    "vals_base_losses = []\n",
    "for run in range(0,runs):\n",
    "    basemeta = metaflux.BaseMeta(hyper_args[\"input_size\"], hyper_args[\"hidden_size\"], arch='mlp').to(device)\n",
    "    train_x, train_y = metaflux.generate_base_metadata(root=root_dir, mode=\"train\", batchsz=1, n_way=hyper_args[\"n_way\"], k_shot=hyper_args[\"k_spt\"], k_query=hyper_args[\"k_qry\"], x_columns=hyper_args[\"xcolumns\"], y_column=ycolumn)\n",
    "    test_x, test_y = metaflux.generate_base_metadata(root=root_dir, mode=\"test\", batchsz=1, n_way=hyper_args[\"n_way\"], k_shot=hyper_args[\"k_spt\"], k_query=hyper_args[\"k_qry\"], x_columns=hyper_args[\"xcolumns\"], y_column=ycolumn)\n",
    "    \n",
    "    optimizer = torch.optim.Adam(basemeta.parameters(), lr=hyper_args[\"update_lr\"])\n",
    "    scheduler = torch.optim.lr_scheduler.ReduceLROnPlateau(optimizer, \"min\", patience=0)\n",
    "    criterion = torch.nn.MSELoss().to(device)\n",
    "    vals_base_loss = []\n",
    "\n",
    "    for epoch in range(hyper_args[\"epoch\"]):\n",
    "        basemeta.train()\n",
    "        train_losses = []\n",
    "\n",
    "        for i, x in enumerate(train_x):\n",
    "            pred = basemeta(x.unsqueeze(0).float().to(device))\n",
    "            loss = criterion(pred.view(-1,1), train_y[i].float().to(device))\n",
    "            loss.backward()\n",
    "            optimizer.step()\n",
    "            train_losses.append(loss.item())\n",
    "\n",
    "        train_loss = np.array(train_losses)\n",
    "        train_loss = np.mean(abs(train_loss - train_loss.mean()) / train_loss.std())\n",
    "        print('Epoch:', epoch, '\\tTraining loss:', train_loss)\n",
    "\n",
    "        if epoch % 2 == 0:\n",
    "            basemeta.eval()\n",
    "            val_losses = []\n",
    "\n",
    "            with torch.no_grad():\n",
    "                for i, x in enumerate(test_x):\n",
    "                    pred = basemeta(x.unsqueeze(0).float().to(device))\n",
    "                    loss = criterion(pred.view(-1,1), test_y[i].float().to(device))\n",
    "                    val_losses.append(loss.item())\n",
    "\n",
    "            val_loss = np.array(val_losses)\n",
    "            val_loss = np.mean(abs(val_loss - val_loss.mean()) / val_loss.std())\n",
    "            scheduler.step(val_loss)\n",
    "            vals_base_loss.append(val_loss)\n",
    "\n",
    "            print('\\tValidation loss:', val_loss)\n",
    "\n",
    "    vals_base_losses.append(vals_base_loss)"
   ]
  },
  {
   "cell_type": "code",
   "execution_count": null,
   "metadata": {},
   "outputs": [
    {
     "data": {
      "image/png": "[encoded data removed]",
      "text/plain": [
       "<Figure size 432x288 with 1 Axes>"
      ]
     },
     "metadata": {
      "needs_background": "light"
     },
     "output_type": "display_data"
    }
   ],
   "source": [
    "# Plot validation loss\n",
    "f, ax = plt.subplots()\n",
    "epochs = np.arange(1,hyper_args[\"epoch\"] + 1, 2)\n",
    "ax.plot(epochs, vals_meta_losses[0], label='Meta-learning')\n",
    "ax.plot(epochs, vals_base_losses[0], label='Non Meta-learning')\n",
    "ax.set_title(\"Gs inference with and without meta-learning\")\n",
    "ax.set_ylabel(\"MSE\")\n",
    "ax.set_xlabel(\"Epoch\")\n",
    "ax.legend()\n",
    "plt.show()"
   ]
  }
 ],
 "metadata": {
  "kernelspec": {
   "display_name": "Python 3.8.5 ('sentinel')",
   "language": "python",
   "name": "python3"
  },
  "language_info": {
   "codemirror_mode": {
    "name": "ipython",
    "version": 3
   },
   "file_extension": ".py",
   "mimetype": "text/x-python",
   "name": "python",
   "nbconvert_exporter": "python",
   "pygments_lexer": "ipython3",
   "version": "3.8.5"
  },
  "orig_nbformat": 4,
  "vscode": {
   "interpreter": {
    "hash": "d5e9bfb270b49565c73e4a090a4cce1b4444a3e0cfed3b26019d0e463cfff8c7"
   }
  }
 },
 "nbformat": 4,
 "nbformat_minor": 2
}
