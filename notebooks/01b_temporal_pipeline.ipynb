{
 "cells": [
  {
   "cell_type": "code",
   "execution_count": 1,
   "metadata": {},
   "outputs": [],
   "source": [
    "%load_ext autoreload\n",
    "%autoreload 2"
   ]
  },
  {
   "cell_type": "code",
   "execution_count": 2,
   "metadata": {},
   "outputs": [
    {
     "name": "stderr",
     "output_type": "stream",
     "text": [
      "/home/user/anaconda3/envs/pytorch/lib/python3.8/site-packages/xarray/backends/cfgrib_.py:29: UserWarning: Failed to load cfgrib - most likely there is a problem accessing the ecCodes library. Try `import cfgrib` to get the full error message\n",
      "  warnings.warn(\n"
     ]
    }
   ],
   "source": [
    "import sys\n",
    "import os\n",
    "from glob import glob\n",
    "\n",
    "sys.path.append('..')\n",
    "import metaflux\n",
    "import torch\n",
    "import numpy as np\n",
    "import matplotlib.pyplot as plt\n",
    "import seaborn as sns\n",
    "import warnings\n",
    "\n",
    "warnings.filterwarnings(\"ignore\")\n",
    "sns.set_theme()\n",
    "np.random.seed(101)\n",
    "torch.manual_seed(101)\n",
    "\n",
    "device = torch.device(\"cuda\" if torch.cuda.is_available() else \"cpu\")"
   ]
  },
  {
   "cell_type": "markdown",
   "metadata": {},
   "source": [
    "## Load and modify your hyperparameters of your task"
   ]
  },
  {
   "cell_type": "code",
   "execution_count": 3,
   "metadata": {},
   "outputs": [
    {
     "data": {
      "text/plain": [
       "{'epoch': 100,\n",
       " 'hidden_size': 350,\n",
       " 'batch_size': 256,\n",
       " 'input_size': 5,\n",
       " 'meta_lr': 0.001,\n",
       " 'update_lr': 0.0001,\n",
       " 'meta_time_lr': 0.01,\n",
       " 'update_time_lr': 0.001,\n",
       " 'num_lstm_layers': 1,\n",
       " 'max_meta_step': 2,\n",
       " 'finetune_size': 0.2,\n",
       " 'encoder_hidden_size': 64,\n",
       " 'contextcolumns': ['Lat', 'Lon', 'PFT'],\n",
       " 'xcolumns': ['P_ERA', 'LAI', 'VPD_ERA', 'TA_ERA', 'SW_IN_ERA'],\n",
       " 'ycolumn': ['GPP_NT_VUT_REF']}"
      ]
     },
     "execution_count": 3,
     "metadata": {},
     "output_type": "execute_result"
    }
   ],
   "source": [
    "# Specify variables\n",
    "ycolumn = \"GPP_NT_VUT_REF\"\n",
    "\n",
    "# Load the hyperparameters for your task\n",
    "config_path = '../metaflux/configs/hyperparams_1b.yaml'\n",
    "hyper_args = metaflux.configs.get_hyperparams(config_path=config_path)\n",
    "\n",
    "hyper_args['ycolumn'] = [ycolumn]\n",
    "hyper_args['input_size'] = len(hyper_args['xcolumns'])\n",
    "\n",
    "hyper_args"
   ]
  },
  {
   "cell_type": "markdown",
   "metadata": {},
   "source": [
    "## Define dataloader"
   ]
  },
  {
   "cell_type": "code",
   "execution_count": 4,
   "metadata": {},
   "outputs": [],
   "source": [
    "root_dir = '../metaflux/data/sample/'\n",
    "\n",
    "# Note that the inputs are normalized here. For non-temporal data, we specify time_window = 1\n",
    "fluxnet_train = metaflux.dataloader.Fluxmetanet(root=root_dir, mode=\"train\", x_columns=hyper_args[\"xcolumns\"], y_column=ycolumn, context_columns=hyper_args[\"contextcolumns\"] , time_column=\"TIMESTAMP_START\", time_window=30)\n",
    "fluxnet_test = metaflux.dataloader.Fluxmetanet(root=root_dir, mode=\"test\", x_columns=hyper_args[\"xcolumns\"], y_column=ycolumn, context_columns=hyper_args[\"contextcolumns\"], time_column=\"TIMESTAMP_START\", time_window=30)"
   ]
  },
  {
   "cell_type": "markdown",
   "metadata": {},
   "source": [
    "## Define your model"
   ]
  },
  {
   "cell_type": "code",
   "execution_count": 5,
   "metadata": {},
   "outputs": [],
   "source": [
    "# Load model\n",
    "model_type = \"lstm\" # currently supported models: ['lstm', 'bilstm', 'mlp']\n",
    "\n",
    "# Metalearning without encoding and with baseline\n",
    "model = metaflux.learner.Learner(\n",
    "    input_size=hyper_args[\"input_size\"], \n",
    "    hidden_size=hyper_args[\"hidden_size\"], \n",
    "    model_type=model_type, \n",
    "    fluxnet_train=fluxnet_train,\n",
    "    fluxnet_test=fluxnet_test,\n",
    "    update_lr=hyper_args[\"update_lr\"],\n",
    "    meta_lr=hyper_args[\"meta_lr\"],\n",
    "    batch_size=hyper_args[\"batch_size\"],\n",
    "    max_meta_step=hyper_args[\"max_meta_step\"],\n",
    "    finetune_size=hyper_args[\"finetune_size\"],\n",
    "    encoder_hidden_size=hyper_args[\"encoder_hidden_size\"],\n",
    "    with_context=False,\n",
    "    with_baseline=True\n",
    ")"
   ]
  },
  {
   "cell_type": "markdown",
   "metadata": {},
   "source": [
    "## Training and Evaluation"
   ]
  },
  {
   "cell_type": "code",
   "execution_count": 6,
   "metadata": {},
   "outputs": [],
   "source": [
    "# Train metalearning models\n",
    "runs = 5\n",
    "model.train_meta(runs=runs, epochs=hyper_args[\"epoch\"])"
   ]
  },
  {
   "cell_type": "code",
   "execution_count": 8,
   "metadata": {},
   "outputs": [
    {
     "name": "stdout",
     "output_type": "stream",
     "text": [
      "Baseline loss: 4.08 ± 0.03\n",
      "Meta-learning without context loss: 3.43 ± 0.03\n"
     ]
    },
    {
     "data": {
      "image/png": "[encoded data removed]",
      "text/plain": [
       "<Figure size 432x288 with 1 Axes>"
      ]
     },
     "metadata": {},
     "output_type": "display_data"
    }
   ],
   "source": [
    "# Plot validation loss\n",
    "is_smoothing = False\n",
    "smoothing_exp = 7\n",
    "f, ax = plt.subplots()\n",
    "epochs = np.arange(1,hyper_args[\"epoch\"] + 1)\n",
    "meta_c_loss, meta_loss, base_loss = list(), list(), list()\n",
    "for run in range(runs):\n",
    "    meta_loss.append((model.meta_loss_metric[f\"train_epoch_{run}\"] + model.meta_loss_metric[f\"val_epoch_{run}\"]) / 2)\n",
    "    base_loss.append((model.base_loss_metric[f\"train_epoch_{run}\"] + model.base_loss_metric[f\"val_epoch_{run}\"]) / 2)\n",
    "\n",
    "meta_loss = np.array(meta_loss)\n",
    "base_loss = np.array(base_loss)\n",
    "if is_smoothing:\n",
    "    meta_mean = np.poly1d(np.polyfit(epochs, meta_loss.mean(axis=0), smoothing_exp))(epochs)\n",
    "    meta_std = np.poly1d(np.polyfit(epochs, meta_loss.std(axis=0), smoothing_exp))(epochs)\n",
    "    base_mean = np.poly1d(np.polyfit(epochs, base_loss.mean(axis=0), smoothing_exp))(epochs)\n",
    "    base_std = np.poly1d(np.polyfit(epochs, base_loss.std(axis=0), smoothing_exp))(epochs)\n",
    "else:\n",
    "    meta_mean = meta_loss.mean(axis=0)\n",
    "    meta_std = meta_loss.std(axis=0)\n",
    "    base_mean = base_loss.mean(axis=0)\n",
    "    base_std = base_loss.std(axis=0)\n",
    "\n",
    "ax.plot(epochs, meta_mean, label='Meta-learn')\n",
    "ax.plot(epochs, base_mean, label='Baseline')\n",
    "ax.fill_between(epochs, meta_mean - meta_std, meta_mean + meta_std, alpha=0.1)\n",
    "ax.fill_between(epochs, base_mean - base_std, base_mean + base_std, alpha=0.1)\n",
    "ax.set_title(\"Validation RMSE for GPP inference \\n for meta-learning\")\n",
    "ax.set_ylabel(\"RMSE\")\n",
    "ax.set_xlabel(\"Epoch\")\n",
    "ax.legend()\n",
    "\n",
    "print(f\"Baseline loss: {min(base_loss.mean(axis=0)):.2f} ± {min(base_loss.std(axis=0)):.2f}\")\n",
    "print(f\"Meta-learning without context loss: {min(meta_loss.mean(axis=0)):.2f} ± {min(meta_loss.std(axis=0)):.2f}\")\n",
    "\n",
    "f.savefig(\"../docs/gpp_infer.jpeg\")"
   ]
  },
  {
   "cell_type": "code",
   "execution_count": null,
   "metadata": {},
   "outputs": [],
   "source": []
  }
 ],
 "metadata": {
  "kernelspec": {
   "display_name": "Python 3.8.2 ('pytorch')",
   "language": "python",
   "name": "python3"
  },
  "language_info": {
   "codemirror_mode": {
    "name": "ipython",
    "version": 3
   },
   "file_extension": ".py",
   "mimetype": "text/x-python",
   "name": "python",
   "nbconvert_exporter": "python",
   "pygments_lexer": "ipython3",
   "version": "3.8.2"
  },
  "orig_nbformat": 4,
  "vscode": {
   "interpreter": {
    "hash": "0f272b2befa8a640f609b747b92b07058a7eabe2b7955268e555c5cfa135e8b9"
   }
  }
 },
 "nbformat": 4,
 "nbformat_minor": 2
}
